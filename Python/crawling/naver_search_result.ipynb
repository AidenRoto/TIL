{
 "cells": [
  {
   "cell_type": "code",
   "execution_count": null,
   "metadata": {},
   "outputs": [],
   "source": [
    "import requests, math, re, csv, pandas\n",
    "from bs4 import BeautifulSoup"
   ]
  },
  {
   "cell_type": "code",
   "execution_count": null,
   "metadata": {},
   "outputs": [],
   "source": [
    "def get_day(year, month):\n",
    "    if month in [1, 3, 5, 7, 8, 10, 12]:\n",
    "        return 31\n",
    "    elif month in [4, 6, 9, 11]:\n",
    "        return 30\n",
    "    elif month == 2:\n",
    "        if year in [2012, 2016]:\n",
    "            return 29\n",
    "        else:\n",
    "            return 28"
   ]
  },
  {
   "cell_type": "code",
   "execution_count": null,
   "metadata": {},
   "outputs": [],
   "source": [
    "HEADERS = {'User-Agent': 'Mozilla/5.0 (Macintosh; Intel Mac OS X 10_10_1) AppleWebKit/537.36 (KHTML, like Gecko) Chrome/39.0.2171.95 Safari/537.36'}\n",
    "START_YEAR = 2012\n",
    "END_YEAR = 2017\n",
    "cnt = 1"
   ]
  },
  {
   "cell_type": "code",
   "execution_count": null,
   "metadata": {},
   "outputs": [],
   "source": [
    "for year in range(START_YEAR, END_YEAR+1):\n",
    "    for month in range(1, 13):\n",
    "        data = []\n",
    "        if year == 2017 and month == 11:\n",
    "            break\n",
    "        for day in range(1, get_day(year, month) + 1):\n",
    "            date = \"{}{:02d}{:02d}\".format(year, month, day)\n",
    "            tmp_link = \"https://search.naver.com/search.naver?date_from={}&date_option=8&date_to={}&dup_remove=1&ie=utf8&nso=p%3Afrom{}to{}&post_blogurl=&post_blogurl_without=&query=송도%20-포항%20-부산&sm=tab_pge&srchby=all&st=sim&where=post&start={}\".format(date, date, date, date, \"1\")\n",
    "            tmp_raw_html = requests.get(tmp_link, headers=HEADERS).text\n",
    "            tmp_soup = BeautifulSoup(tmp_raw_html, 'lxml')\n",
    "            navi = tmp_soup.select_one('span.title_num').text\n",
    "            total_posts_num = int(re.findall(r\"[0-9]+-[0-9]+ / ([0-9]+)건\", navi)[0])\n",
    "            max_page = math.ceil(total_posts_num / 10)\n",
    "            for page in range(1, max_page + 1):\n",
    "                link = \"https://search.naver.com/search.naver?date_from={}&date_option=8&date_to={}&dup_remove=1&ie=utf8&nso=p%3Afrom{}to{}&post_blogurl=&post_blogurl_without=&query=송도%20-포항%20-부산&sm=tab_pge&srchby=all&st=sim&where=post&start={}\".format(date, date, date, date, 10*page-9)\n",
    "                raw_html = requests.get(link, headers=HEADERS).text\n",
    "                soup = BeautifulSoup(raw_html, 'lxml')\n",
    "                for post in soup.select('li.sh_blog_top'):\n",
    "                    title = post.dl.dt.a.text.strip()\n",
    "                    date = post.dl.dd.text.strip()\n",
    "                    desc = post.dl.select_one('dd.sh_blog_passage').text\n",
    "                    data.append([title, date, desc])\n",
    "                print(\"{} page complete.\".format(cnt))\n",
    "                cnt += 1\n",
    "        file_name = \"{}-{}.csv\".format(year, month)\n",
    "        with open(file_name, 'w') as csvfile:\n",
    "            w = csv.writer(csvfile, delimiter=',')\n",
    "            for line in data:\n",
    "                w.writerow(line)"
   ]
  },
  {
   "cell_type": "code",
   "execution_count": null,
   "metadata": {},
   "outputs": [],
   "source": [
    "d = pandas.read_csv('2012-1.csv', header=None)\n",
    "d.head()"
   ]
  },
  {
   "cell_type": "code",
   "execution_count": null,
   "metadata": {},
   "outputs": [],
   "source": []
  }
 ],
 "metadata": {
  "kernelspec": {
   "display_name": "Python 3",
   "language": "python",
   "name": "python3"
  },
  "language_info": {
   "codemirror_mode": {
    "name": "ipython",
    "version": 3
   },
   "file_extension": ".py",
   "mimetype": "text/x-python",
   "name": "python",
   "nbconvert_exporter": "python",
   "pygments_lexer": "ipython3",
   "version": "3.6.2"
  }
 },
 "nbformat": 4,
 "nbformat_minor": 2
}
