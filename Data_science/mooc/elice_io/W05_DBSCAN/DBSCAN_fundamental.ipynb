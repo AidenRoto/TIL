{
 "cells": [
  {
   "cell_type": "markdown",
   "metadata": {},
   "source": [
    "# DBSCAN\n",
    "\n",
    "\"Density-based spatial clustering of applications with noise\"의 약자다.\n",
    "\n",
    "## 1. 기본\n",
    "\n",
    "- 요약: 밀도 기반으로 클러스터를 분류한다. 아래에서 좀 더 자세히 설명할 기준을 통해 밀집되어있는 데이터들을 하나로 묶어서 클러스터로 만든다.\n",
    "- INPUT\n",
    "    + 원의 크기 $\\epsilon$ : 한 데이터를 중심으로 어느정도 거리 안에 있으면 같은 클러스터로 인식할건지\n",
    "    + Core가 될 수 있는 최소 인접 데이터 수: 원 안에 최소 몇 개가 있어야 Core 데이터로 정할 것인가(자기 자신 포함). 코어 데이터는 클러스터가 만들어지는 시발점이 된다.\n",
    "- 작동 원리\n",
    "    + 한 점을 정하고 원을 그린 후 속한 데이터의 개수를 측정한다.\n",
    "    + 원 내부의 점 개수가 최소기준 이상일 때 -> **Core**: 새로운 클러스터가 하나 생성되고, 원 내부의 모든 데이터끼리 서로 선을 그려 연결한다.\n",
    "    + 원 내부의 점 개수가 최소기준 이하이지만 0은 아닐 때 -> **Border**: Core가 아니지만 원 안에 데이터가 있긴 있다면 클러스터가 생성되진 않고, 데이터 간의 선을 그린다.\n",
    "    + 만약 원 안에 아무 데이터도 없다면 이 데이터는 **Outlier** 또는 **Noise**다. 다른 데이터와 연결 불가능하다.\n",
    "- OUTPUT: 클러스터들과 속하는 데이터\n",
    "    + Density Reachable: 원 내부에 있으면 모두 연결가능하다. 원 내부에서 연결되면 직접 연결, 중간 연결 데이터를 통해 연결되면 간접연결. 이 모두가 연결이며 되기만하면 같은 클러스터로 취급한다.\n",
    "    + 클러스터의 개수를 몰라도 원의 크기와 최소 데이터 개수만 정하면 클러스터링이 된다.\n",
    "    + 밀도 기반이기 때문에 데이터를 연결해나가다보면 다양한 모양이 가능해진다."
   ]
  },
  {
   "cell_type": "code",
   "execution_count": null,
   "metadata": {
    "collapsed": true
   },
   "outputs": [],
   "source": []
  }
 ],
 "metadata": {
  "kernelspec": {
   "display_name": "Python 3",
   "language": "python",
   "name": "python3"
  },
  "language_info": {
   "codemirror_mode": {
    "name": "ipython",
    "version": 3
   },
   "file_extension": ".py",
   "mimetype": "text/x-python",
   "name": "python",
   "nbconvert_exporter": "python",
   "pygments_lexer": "ipython3",
   "version": "3.6.1"
  }
 },
 "nbformat": 4,
 "nbformat_minor": 2
}
